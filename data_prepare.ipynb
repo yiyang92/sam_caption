{
 "cells": [
  {
   "cell_type": "code",
   "execution_count": 1,
   "metadata": {},
   "outputs": [],
   "source": [
    "# TODO: investigate and prepare data"
   ]
  },
  {
   "cell_type": "code",
   "execution_count": 75,
   "metadata": {},
   "outputs": [],
   "source": [
    "import os\n",
    "import matplotlib.pyplot as plt\n",
    "%matplotlib inline"
   ]
  },
  {
   "cell_type": "code",
   "execution_count": 76,
   "metadata": {},
   "outputs": [],
   "source": [
    "import re\n",
    "\n",
    "from skimage.io import imread"
   ]
  },
  {
   "cell_type": "code",
   "execution_count": 80,
   "metadata": {},
   "outputs": [],
   "source": [
    "DATA_DIR = \"./data/nsc_img/img\"\n",
    "TRAIN_SPLIT = \"./data/file_list/splits/train.txt\"\n",
    "VAL_SPLIT = \"./data/file_list/splits/val.txt\"\n",
    "TEST_SPLIT = \"./data/file_list/splits/test.txt\""
   ]
  },
  {
   "cell_type": "code",
   "execution_count": 85,
   "metadata": {},
   "outputs": [],
   "source": [
    "def get_paths(img_dir):\n",
    "    ret_dict = {}\n",
    "    for root, dirs, files in os.walk(img_dir):\n",
    "        if len(files) != 0:\n",
    "            for fl in files:\n",
    "                path = os.path.join(root, fl)\n",
    "                img_id = \"\".join(re.findall(r\"[0-9]+\", root))\n",
    "                ret_dict[img_id] = path\n",
    "    return ret_dict\n",
    "\n",
    "def split_data(paths, train_split_f, val_split_f, test_split_f):\n",
    "    train, val, test = [], [], []\n",
    "    for split,split_f in ((train, train_split_f), (val, val_split_f), (test, test_split_f)):\n",
    "        with open(split_f) as rf:\n",
    "            for line in rf:\n",
    "                line = line.split(\".\")[0]\n",
    "                split.append(paths[line])\n",
    "    return train, val, test"
   ]
  },
  {
   "cell_type": "code",
   "execution_count": 79,
   "metadata": {},
   "outputs": [],
   "source": [
    "paths = get_paths(DATA_DIR)"
   ]
  },
  {
   "cell_type": "code",
   "execution_count": 86,
   "metadata": {},
   "outputs": [],
   "source": [
    "train, val, test = split_data(paths, TRAIN_SPLIT, VAL_SPLIT, TEST_SPLIT)"
   ]
  },
  {
   "cell_type": "code",
   "execution_count": 91,
   "metadata": {},
   "outputs": [
    {
     "name": "stdout",
     "output_type": "stream",
     "text": [
      "All data:  355206\n"
     ]
    }
   ],
   "source": [
    "print(\"All data: \", len(paths.keys()))"
   ]
  },
  {
   "cell_type": "code",
   "execution_count": 90,
   "metadata": {},
   "outputs": [
    {
     "name": "stdout",
     "output_type": "stream",
     "text": [
      "Train data: 28000 \n",
      "Val data: 1000 \n",
      "Test data: 1000\n"
     ]
    }
   ],
   "source": [
    "print(\"Train data: {} \\nVal data: {} \\nTest data: {}\".format(\n",
    "    len(train), len(val), len(test)))"
   ]
  },
  {
   "cell_type": "code",
   "execution_count": 92,
   "metadata": {},
   "outputs": [
    {
     "data": {
      "text/plain": [
       "'./data/nsc_img/img/002/844/823/01.jpg'"
      ]
     },
     "execution_count": 92,
     "metadata": {},
     "output_type": "execute_result"
    }
   ],
   "source": [
    "train[10]"
   ]
  },
  {
   "cell_type": "code",
   "execution_count": 1,
   "metadata": {},
   "outputs": [
    {
     "ename": "NameError",
     "evalue": "name 'test' is not defined",
     "output_type": "error",
     "traceback": [
      "\u001b[0;31m---------------------------------------------------------------------------\u001b[0m",
      "\u001b[0;31mNameError\u001b[0m                                 Traceback (most recent call last)",
      "\u001b[0;32m<ipython-input-1-b0e58e187214>\u001b[0m in \u001b[0;36m<module>\u001b[0;34m\u001b[0m\n\u001b[0;32m----> 1\u001b[0;31m \u001b[0mtest\u001b[0m\u001b[0;34m[\u001b[0m\u001b[0;36m1\u001b[0m\u001b[0;34m]\u001b[0m\u001b[0;34m\u001b[0m\u001b[0m\n\u001b[0m",
      "\u001b[0;31mNameError\u001b[0m: name 'test' is not defined"
     ]
    }
   ],
   "source": [
    "test[1]"
   ]
  },
  {
   "cell_type": "code",
   "execution_count": 96,
   "metadata": {},
   "outputs": [
    {
     "data": {
      "text/plain": [
       "('004868273', './data/nsc_img/img/004/868/273/01.jpg')"
      ]
     },
     "execution_count": 96,
     "metadata": {},
     "output_type": "execute_result"
    }
   ],
   "source": [
    "list(paths.items())[10]"
   ]
  },
  {
   "cell_type": "code",
   "execution_count": 100,
   "metadata": {},
   "outputs": [],
   "source": [
    "import pickle"
   ]
  },
  {
   "cell_type": "code",
   "execution_count": 97,
   "metadata": {},
   "outputs": [],
   "source": [
    "posts_path = \"./data/posts_nsc.pickle\"\n",
    "usrs_path = \"./data/users_nsc.pickle\""
   ]
  },
  {
   "cell_type": "code",
   "execution_count": 101,
   "metadata": {},
   "outputs": [],
   "source": [
    "with open(posts_path, \"rb\") as rf:\n",
    "    posts_data = pickle.load(rf)"
   ]
  },
  {
   "cell_type": "code",
   "execution_count": 102,
   "metadata": {},
   "outputs": [],
   "source": [
    "with open(usrs_path, \"rb\") as rf:\n",
    "    usrs_data = pickle.load(rf)"
   ]
  },
  {
   "cell_type": "code",
   "execution_count": 152,
   "metadata": {},
   "outputs": [
    {
     "name": "stdout",
     "output_type": "stream",
     "text": [
      "[{'Name': 'Lucy M.', 'Url': 'lookbook.nu/lucymitchell12', 'Comment': 'The skirt is gorgeous :)'}, {'Name': 'Lo P.', 'Url': 'lookbook.nu/lop', 'Comment': 'so chic and stylish!'}, {'Name': 'GaiL J.', 'Url': 'lookbook.nu/hollahoxz', 'Comment': 'love it!'}, {'Name': 'Poldo  N.', 'Url': 'lookbook.nu/napitpoldo', 'Comment': 'love your skirt!'}, {'Name': 'Meredith J.', 'Url': 'lookbook.nu/merejess', 'Comment': 'Love the color combo of this outfit and the unexpected touch of silver shoes.'}, {'Name': 'Tristian N.', 'Url': 'lookbook.nu/tristiann', 'Comment': 'This is very cute and very San Francisco! perfect!'}, {'Name': 'Hugo S.', 'Url': 'lookbook.nu/hunggofunggo', 'Comment': 'That skirt is to die for omg <3'}, {'Name': 'Christina M.', 'Url': 'lookbook.nu/christina_marie', 'Comment': 'Love it'}, {'Name': 'Ad J.', 'Url': 'lookbook.nu/adj', 'Comment': 'Perfect look! Remarkable colours and textures combo.'}, {'Name': 'Inbal R.', 'Url': 'lookbook.nu/inbalr', 'Comment': 'lovely colors and gorgeous skirt!'}, {'Name': 'Susanna V.', 'Url': 'lookbook.nu/susanna_vesna', 'Comment': 'Blue n peach! Love!'}, {'Name': 'H a n n  H.', 'Url': 'lookbook.nu/hodge', 'Comment': 'the colours and textures work beautifully !'}, {'Name': 'Viktoria G.', 'Url': 'lookbook.nu/corneroftheworld', 'Comment': 'love it!'}, {'Name': 'Pam S.', 'Url': 'lookbook.nu/disturbed_style', 'Comment': 'so perfect!'}, {'Name': 'Deborah D.', 'Url': 'lookbook.nu/deborahd', 'Comment': 'stunning!'}, {'Name': 'VictoriaJane T.', 'Url': 'lookbook.nu/victoriajane', 'Comment': 'Simple and chic'}, {'Name': 'Rachel E.', 'Url': 'lookbook.nu/racheleng', 'Comment': 'Love the skirt!'}, {'Name': 'Khalil Z.', 'Url': 'lookbook.nu/khalilzdaa', 'Comment': 'Perfect <3 ! you look beautiful <3'}, {'Name': 'Priscila  D.', 'Url': 'lookbook.nu/prisciladiniz', 'Comment': 'Wow!Amazing skirt!Loveeeee'}, {'Name': 'Cassandra Y. L.', 'Url': 'lookbook.nu/cassandraliu', 'Comment': 'Love the color!!'}, {'Name': 'Rupert K.', 'Url': 'lookbook.nu/woodie', 'Comment': 'fabulous!'}, {'Name': 'Holy R.', 'Url': 'lookbook.nu/trendyholy', 'Comment': 'Lovely!'}, {'Name': 'Lali B.', 'Url': 'lookbook.nu/artinheels', 'Comment': 'love the skirt!'}, {'Name': 'Michelle W.', 'Url': 'lookbook.nu/michellewaugh', 'Comment': 'awesome look!'}]\n"
     ]
    }
   ],
   "source": [
    "comments = posts_data[\"004868273\"][\"Comments\"]\n",
    "comments = re.sub(r\"https?://\", \"\", comments)\n",
    "comments = re.sub(r\"\\\"\", \"\", comments)\n",
    "comments = re.findall(r\"\\{(.*?)\\}\", comments)\n",
    "comm_d = {}\n",
    "comms = []\n",
    "new_com = False\n",
    "for com in comments:\n",
    "    split = com.split(\":\")\n",
    "    if len(split) > 2:\n",
    "        split = [split[0], \":\".join(split[1:])]\n",
    "    type_, attr = split\n",
    "    comm_d[type_] = attr.strip()\n",
    "    if {\"Name\", \"Url\", \"Comment\"} == set(comm_d.keys()):\n",
    "        comms.append(comm_d)\n",
    "        comm_d = {}\n",
    "print(comms)"
   ]
  },
  {
   "cell_type": "code",
   "execution_count": 155,
   "metadata": {},
   "outputs": [
    {
     "data": {
      "text/plain": [
       "[('1482503',\n",
       "  {'Age': 29,\n",
       "   'City': 'Scotland',\n",
       "   'CommentKarma': 0,\n",
       "   'CommentNum': 2,\n",
       "   'Country': 'United Kingdom',\n",
       "   'FanNum': 0,\n",
       "   'Fans': '[]',\n",
       "   'Followers': '[]',\n",
       "   'FollowingNum': 20,\n",
       "   'HeartNum': 0,\n",
       "   'Info': '29 歲 女性 來自 Scotland, United Kingdom',\n",
       "   'Karma': 0,\n",
       "   'LookNum': 0,\n",
       "   'Sex': 'Female',\n",
       "   'TopicNum': 0,\n",
       "   'UserName': 'Fifi Q'}),\n",
       " ('2222424',\n",
       "  {'Age': 22,\n",
       "   'City': None,\n",
       "   'CommentKarma': 0,\n",
       "   'CommentNum': 57,\n",
       "   'Country': 'Albania',\n",
       "   'FanNum': 24,\n",
       "   'Fans': '[]',\n",
       "   'Followers': '[]',\n",
       "   'FollowingNum': 94,\n",
       "   'HeartNum': 0,\n",
       "   'Info': '22 歲 女性 來自 Albania',\n",
       "   'Karma': 5,\n",
       "   'LookNum': 0,\n",
       "   'Sex': 'Female',\n",
       "   'TopicNum': 0,\n",
       "   'UserName': 'Lool M'}),\n",
       " ('1200459',\n",
       "  {'Age': 24,\n",
       "   'City': 'Montréal',\n",
       "   'CommentKarma': 0,\n",
       "   'CommentNum': 1,\n",
       "   'Country': 'Canada',\n",
       "   'FanNum': 2,\n",
       "   'Fans': '[]',\n",
       "   'Followers': '[]',\n",
       "   'FollowingNum': 16,\n",
       "   'HeartNum': 0,\n",
       "   'Info': '24 歲 Dancer and fashion design student 來自 Montréal, Canada',\n",
       "   'Karma': 0,\n",
       "   'LookNum': 2,\n",
       "   'Sex': None,\n",
       "   'TopicNum': 0,\n",
       "   'UserName': 'Émelie FCaron'})]"
      ]
     },
     "execution_count": 155,
     "metadata": {},
     "output_type": "execute_result"
    }
   ],
   "source": [
    "list(usrs_data.items())[:3]"
   ]
  },
  {
   "cell_type": "code",
   "execution_count": 156,
   "metadata": {},
   "outputs": [],
   "source": [
    "# TODO: check urls, how users with same urls posted comments"
   ]
  },
  {
   "cell_type": "code",
   "execution_count": 159,
   "metadata": {},
   "outputs": [],
   "source": [
    "import json"
   ]
  },
  {
   "cell_type": "code",
   "execution_count": 157,
   "metadata": {},
   "outputs": [],
   "source": [
    "comments = posts_data[\"004868273\"][\"Comments\"]"
   ]
  },
  {
   "cell_type": "code",
   "execution_count": 160,
   "metadata": {},
   "outputs": [],
   "source": [
    "comments = json.loads(comments)"
   ]
  },
  {
   "cell_type": "code",
   "execution_count": 175,
   "metadata": {},
   "outputs": [
    {
     "data": {
      "text/plain": [
       "{'Url': 'http://lookbook.nu/corneroftheworld'}"
      ]
     },
     "execution_count": 175,
     "metadata": {},
     "output_type": "execute_result"
    }
   ],
   "source": [
    "comments[12][1]"
   ]
  },
  {
   "cell_type": "code",
   "execution_count": 180,
   "metadata": {},
   "outputs": [],
   "source": [
    "from collections import defaultdict\n",
    "from tqdm import tqdm_notebook"
   ]
  },
  {
   "cell_type": "code",
   "execution_count": 186,
   "metadata": {},
   "outputs": [
    {
     "data": {
      "application/vnd.jupyter.widget-view+json": {
       "model_id": "88afcf6f8fd54243b144cd13aaa790f7",
       "version_major": 2,
       "version_minor": 0
      },
      "text/plain": [
       "HBox(children=(IntProgress(value=0, max=355205), HTML(value='')))"
      ]
     },
     "metadata": {},
     "output_type": "display_data"
    },
    {
     "name": "stdout",
     "output_type": "stream",
     "text": [
      "\n"
     ]
    }
   ],
   "source": [
    "com_count = defaultdict(int)\n",
    "for postid in tqdm_notebook(posts_data):\n",
    "    comments = posts_data[postid][\"Comments\"]\n",
    "    try:\n",
    "        comments = json.loads(comments)\n",
    "    except:\n",
    "        continue\n",
    "    for comm in comments:\n",
    "        com_count[comm[1][\"Url\"]]+= 1"
   ]
  },
  {
   "cell_type": "code",
   "execution_count": 187,
   "metadata": {},
   "outputs": [],
   "source": [
    "com_counts = sorted(com_count.items(), key=lambda x: -x[1])"
   ]
  },
  {
   "cell_type": "code",
   "execution_count": 202,
   "metadata": {},
   "outputs": [
    {
     "data": {
      "text/plain": [
       "[('http://lookbook.nu/queenhorsfall', 46947),\n",
       " ('http://lookbook.nu/aniazarzycka', 36009),\n",
       " ('http://lookbook.nu/lop', 35401),\n",
       " ('http://lookbook.nu/beautymarklady', 34131),\n",
       " ('http://lookbook.nu/prisciladiniz', 32999),\n",
       " ('http://lookbook.nu/tneale', 31338),\n",
       " ('http://lookbook.nu/viktoriyasener', 29260),\n",
       " ('http://lookbook.nu/ivanakada', 28434),\n",
       " ('http://lookbook.nu/dopeboyswag', 23937),\n",
       " ('http://lookbook.nu/avalon1982', 23351)]"
      ]
     },
     "execution_count": 202,
     "metadata": {},
     "output_type": "execute_result"
    }
   ],
   "source": [
    "com_counts[:10]"
   ]
  },
  {
   "cell_type": "code",
   "execution_count": 192,
   "metadata": {},
   "outputs": [
    {
     "data": {
      "text/plain": [
       "171369"
      ]
     },
     "execution_count": 192,
     "metadata": {},
     "output_type": "execute_result"
    }
   ],
   "source": [
    "len(com_counts)"
   ]
  },
  {
   "cell_type": "code",
   "execution_count": 198,
   "metadata": {},
   "outputs": [
    {
     "data": {
      "text/plain": [
       "{'CommentNum': 27,\n",
       " 'Comments': '[[{\"Name\": \"Lucy M.\"}, {\"Url\": \"http://lookbook.nu/lucymitchell12\"}, {\"Comment\": \"The skirt is gorgeous :)\"}], [{\"Name\": \"Lo P.\"}, {\"Url\": \"http://lookbook.nu/lop\"}, {\"Comment\": \"so chic and stylish!\"}], [{\"Name\": \"GaiL J.\"}, {\"Url\": \"http://lookbook.nu/hollahoxz\"}, {\"Comment\": \"love it!\"}], [{\"Name\": \"Poldo  N.\"}, {\"Url\": \"http://lookbook.nu/napitpoldo\"}, {\"Comment\": \"love your skirt!\"}], [{\"Name\": \"Meredith J.\"}, {\"Url\": \"http://lookbook.nu/merejess\"}, {\"Comment\": \"Love the color combo of this outfit and the unexpected touch of silver shoes.\"}], [{\"Name\": \"Tristian N.\"}, {\"Url\": \"http://lookbook.nu/tristiann\"}, {\"Comment\": \"This is very cute and very San Francisco! perfect!\"}], [{\"Name\": \"Hugo S.\"}, {\"Url\": \"http://lookbook.nu/hunggofunggo\"}, {\"Comment\": \"That skirt is to die for omg <3\"}], [{\"Name\": \"Christina M.\"}, {\"Url\": \"http://lookbook.nu/christina_marie\"}, {\"Comment\": \"Love it\"}], [{\"Name\": \"Ad J.\"}, {\"Url\": \"http://lookbook.nu/adj\"}, {\"Comment\": \"Perfect look! Remarkable colours and textures combo.\"}], [{\"Name\": \"Inbal R.\"}, {\"Url\": \"http://lookbook.nu/inbalr\"}, {\"Comment\": \"lovely colors and gorgeous skirt!\"}], [{\"Name\": \"Susanna V.\"}, {\"Url\": \"http://lookbook.nu/susanna_vesna\"}, {\"Comment\": \"Blue n peach! Love!\"}], [{\"Name\": \"H a n n  H.\"}, {\"Url\": \"http://lookbook.nu/hodge\"}, {\"Comment\": \"the colours and textures work beautifully !\"}], [{\"Name\": \"Viktoria G.\"}, {\"Url\": \"http://lookbook.nu/corneroftheworld\"}, {\"Comment\": \"love it!\"}], [{\"Name\": \"Pam S.\"}, {\"Url\": \"http://lookbook.nu/disturbed_style\"}, {\"Comment\": \"so perfect!\"}], [{\"Name\": \"Deborah D.\"}, {\"Url\": \"http://lookbook.nu/deborahd\"}, {\"Comment\": \"stunning!\"}], [{\"Name\": \"VictoriaJane T.\"}, {\"Url\": \"http://lookbook.nu/victoriajane\"}, {\"Comment\": \"Simple and chic\"}], [{\"Name\": \"Rachel E.\"}, {\"Url\": \"http://lookbook.nu/racheleng\"}, {\"Comment\": \"Love the skirt!\"}], [{\"Name\": \"Khalil Z.\"}, {\"Url\": \"http://lookbook.nu/khalilzdaa\"}, {\"Comment\": \"Perfect <3 ! you look beautiful <3\"}], [{\"Name\": \"Priscila  D.\"}, {\"Url\": \"http://lookbook.nu/prisciladiniz\"}, {\"Comment\": \"Wow!Amazing skirt!Loveeeee\"}], [{\"Name\": \"Cassandra Y. L.\"}, {\"Url\": \"http://lookbook.nu/cassandraliu\"}, {\"Comment\": \"Love the color!!\"}], [{\"Name\": \"Rupert K.\"}, {\"Url\": \"http://lookbook.nu/woodie\"}, {\"Comment\": \"fabulous!\"}], [{\"Name\": \"Holy R.\"}, {\"Url\": \"http://lookbook.nu/trendyholy\"}, {\"Comment\": \"Lovely!\"}], [{\"Name\": \"Lali B.\"}, {\"Url\": \"http://lookbook.nu/artinheels\"}, {\"Comment\": \"love the skirt!\"}], [{\"Name\": \"Michelle W.\"}, {\"Url\": \"http://lookbook.nu/michellewaugh\"}, {\"Comment\": \"awesome look!\"}]]',\n",
       " 'HashTag': '[\"#color\", \"#spring\"]',\n",
       " 'HeartNum': 1,\n",
       " 'Items': '[[{\"Name\": \" A Wear Cobalt Boucle Jacke\"}, {\"Brand\": \"Asos\"}, {\"Store\": \"Asos\"}, {\"X\": 196}, {\"Y\": 123}], [{\"Name\": \"Asos Jacquard Mini Wrap Skirt\"}, {\"Brand\": \"Asos\"}, {\"Store\": \"Asos\"}, {\"X\": 128}, {\"Y\": 272}], [{\"Name\": \"Sand Heels\"}, {\"Brand\": \"Elizabeth and James\"}, {\"Store\": null}, {\"X\": 177}, {\"Y\": 496}], [{\"Name\": \"Fiona Paxton Yumi Necklace\"}, {\"Brand\": \"Fiona Paxton\"}, {\"Store\": null}, {\"X\": 153}, {\"Y\": 97}]]',\n",
       " 'Pantone': '[{\"#ffc898\": \"yelloworange\"}, {\"#0033ab\": \"royalblue\"}]',\n",
       " 'PostDate': datetime.date(2013, 5, 1),\n",
       " 'PostName': 'Color Crush It',\n",
       " 'PosterID': '57289'}"
      ]
     },
     "execution_count": 198,
     "metadata": {},
     "output_type": "execute_result"
    }
   ],
   "source": [
    "posts_data[\"004868273\"]"
   ]
  },
  {
   "cell_type": "code",
   "execution_count": 1,
   "metadata": {},
   "outputs": [],
   "source": [
    "def some_f(*args):\n",
    "    print(args[1])"
   ]
  },
  {
   "cell_type": "code",
   "execution_count": 2,
   "metadata": {},
   "outputs": [
    {
     "name": "stdout",
     "output_type": "stream",
     "text": [
      "2\n"
     ]
    }
   ],
   "source": [
    "some_f(1, 2)"
   ]
  },
  {
   "cell_type": "code",
   "execution_count": null,
   "metadata": {},
   "outputs": [],
   "source": []
  }
 ],
 "metadata": {
  "kernelspec": {
   "display_name": "Python [default]",
   "language": "python",
   "name": "python3"
  },
  "language_info": {
   "codemirror_mode": {
    "name": "ipython",
    "version": 3
   },
   "file_extension": ".py",
   "mimetype": "text/x-python",
   "name": "python",
   "nbconvert_exporter": "python",
   "pygments_lexer": "ipython3",
   "version": "3.5.5"
  }
 },
 "nbformat": 4,
 "nbformat_minor": 2
}
