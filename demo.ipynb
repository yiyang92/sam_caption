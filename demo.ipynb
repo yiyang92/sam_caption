{
 "cells": [
  {
   "cell_type": "code",
   "execution_count": null,
   "metadata": {},
   "outputs": [],
   "source": [
    "import pickle"
   ]
  },
  {
   "cell_type": "code",
   "execution_count": null,
   "metadata": {},
   "outputs": [],
   "source": [
    "from skimage.io import imread\n",
    "import matplotlib.pyplot as plt"
   ]
  },
  {
   "cell_type": "code",
   "execution_count": null,
   "metadata": {},
   "outputs": [],
   "source": [
    "%load_ext autoreload\n",
    "%autoreload 2"
   ]
  },
  {
   "cell_type": "code",
   "execution_count": null,
   "metadata": {},
   "outputs": [],
   "source": [
    "from model.sam_model import SamModel\n",
    "from model.nic_model import NicModel\n",
    "from model.att_model import AttModel\n",
    "from utils.data import Nsc_Data, Data"
   ]
  },
  {
   "cell_type": "code",
   "execution_count": null,
   "metadata": {},
   "outputs": [],
   "source": [
    "# Support classes\n",
    "class Args:\n",
    "    def __init__(self, checkpoint):\n",
    "        self.img_dir = None\n",
    "        self.gpu = \"1\"\n",
    "        self.checkpoint_dir = \"./checkpoints/\"\n",
    "        self.checkpoint = checkpoint\n",
    "\n",
    "class Data:\n",
    "    def __init__(self, dicts_path):\n",
    "        self.dictionaries = self.load_dicts(dicts_path)\n",
    "        \n",
    "    def load_dicts(self, dicts_path):\n",
    "        with open(dicts_path, \"rb\") as rf:\n",
    "            return pickle.load(rf)"
   ]
  },
  {
   "cell_type": "code",
   "execution_count": null,
   "metadata": {},
   "outputs": [],
   "source": [
    "args = Args(\"sam_cap_5_50_0.001\")\n",
    "args_nic = Args(\"cap_only_2_30_0.0005\")\n",
    "args_att = Args(\"att_img_50_0.001\")\n",
    "data = Data(\"./dicts.pickle\")"
   ]
  },
  {
   "cell_type": "code",
   "execution_count": null,
   "metadata": {},
   "outputs": [],
   "source": [
    "model = SamModel(params=args, data=data, mode=\"out_gen\")"
   ]
  },
  {
   "cell_type": "code",
   "execution_count": null,
   "metadata": {},
   "outputs": [],
   "source": [
    "model_nic = NicModel(params=args_nic, data=data, mode=\"out_gen\")"
   ]
  },
  {
   "cell_type": "code",
   "execution_count": null,
   "metadata": {},
   "outputs": [],
   "source": [
    "model_att = AttModel(params=args_att, data=data, mode=\"out_gen\")"
   ]
  },
  {
   "cell_type": "code",
   "execution_count": null,
   "metadata": {},
   "outputs": [],
   "source": [
    "selected_imgs = [\n",
    "    \"./data/nsc_img/img/002/010/454/01.jpg\",\n",
    "    \"./data/nsc_img/img/002/010/848/01.jpg\",\n",
    "    \"./data/nsc_img/img/002/009/262/01.jpg\",\n",
    "    \"./data/nsc_img/img/002/009/162/01.jpg\",\n",
    "    \"./data/nsc_img/img/005/005/166/01.jpg\",\n",
    "\"./data/nsc_img/img/007/012/166/01.jpg\"]"
   ]
  },
  {
   "cell_type": "code",
   "execution_count": null,
   "metadata": {},
   "outputs": [],
   "source": [
    "impath = selected_imgs[1]\n",
    "url = \"lookbooknu/burockz\"\n",
    "postname = \"Not importnat\"  # Not generating in cases if postname is one word"
   ]
  },
  {
   "cell_type": "code",
   "execution_count": null,
   "metadata": {},
   "outputs": [],
   "source": [
    "image = imread(impath)\n",
    "plt.imshow(image)"
   ]
  },
  {
   "cell_type": "code",
   "execution_count": null,
   "metadata": {},
   "outputs": [],
   "source": [
    "model.predict_on_batch(impath, url, postname)"
   ]
  },
  {
   "cell_type": "code",
   "execution_count": null,
   "metadata": {},
   "outputs": [],
   "source": [
    "model_nic.predict_on_batch(impath)"
   ]
  },
  {
   "cell_type": "code",
   "execution_count": null,
   "metadata": {},
   "outputs": [],
   "source": [
    "model_att.predict_on_batch(impath)"
   ]
  },
  {
   "cell_type": "code",
   "execution_count": null,
   "metadata": {},
   "outputs": [],
   "source": []
  }
 ],
 "metadata": {
  "kernelspec": {
   "display_name": "Python [conda env:anaconda3]",
   "language": "python",
   "name": "conda-env-anaconda3-py"
  },
  "language_info": {
   "codemirror_mode": {
    "name": "ipython",
    "version": 3
   },
   "file_extension": ".py",
   "mimetype": "text/x-python",
   "name": "python",
   "nbconvert_exporter": "python",
   "pygments_lexer": "ipython3",
   "version": "3.5.5"
  }
 },
 "nbformat": 4,
 "nbformat_minor": 2
}
